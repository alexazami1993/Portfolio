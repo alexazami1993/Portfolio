{
 "cells": [
  {
   "cell_type": "code",
   "execution_count": 29,
   "id": "2c94deb8",
   "metadata": {},
   "outputs": [
    {
     "name": "stdout",
     "output_type": "stream",
     "text": [
      "<mysql.connector.connection.MySQLConnection object at 0x7fca9c24a730>\n"
     ]
    }
   ],
   "source": [
    "import os\n",
    "import mysql.connector\n",
    "import pandas as pd\n",
    "from google.cloud import bigquery\n",
    "\n",
    "#variables\n",
    "curr_path = os.getcwd()\n",
    "load_file = 'employee_salary.csv'\n",
    "load_file = os.path.join(curr_path,load_file)\n",
    "\n",
    "\n",
    "proj = 'dark-arcade-431219-f6'\n",
    "dataset = 'sample_database'\n",
    "target_table = 'annual_employee_salary'\n",
    "table_id = f'{proj}.{dataset}.{target_table}'\n",
    "\n",
    "# data connections\n",
    "conn = mysql.connector.connect(host='localhost',\n",
    "                                user='root',\n",
    "                                passwd='hasibjan1'\n",
    "                              )\n",
    "\n",
    "client = bigquery.Client(project=proj)\n",
    "\n",
    "mycursor = conn.cursor()\n",
    "print(conn)"
   ]
  },
  {
   "cell_type": "code",
   "execution_count": 9,
   "id": "521326d9",
   "metadata": {},
   "outputs": [
    {
     "name": "stderr",
     "output_type": "stream",
     "text": [
      "IOPub data rate exceeded.\n",
      "The notebook server will temporarily stop sending output\n",
      "to the client in order to avoid crashing it.\n",
      "To change this limit, set the config variable\n",
      "`--NotebookApp.iopub_data_rate_limit`.\n",
      "\n",
      "Current values:\n",
      "NotebookApp.iopub_data_rate_limit=1000000.0 (bytes/sec)\n",
      "NotebookApp.rate_limit_window=3.0 (secs)\n",
      "\n"
     ]
    }
   ],
   "source": [
    "#Create our SQL extract query\n",
    "mycursor.execute('SELECT e.emp_no,e.birth_date,e.first_name,e.last_name,s.salary,AVG(salary) OVER(PARTITION BY emp_no) AS EmpSalary FROM employees.employees e JOIN employees.salaries s ON e.emp_no = s.emp_no')\n",
    "\n",
    "output = mycursor.fetchall()\n",
    "\n",
    "for x in output:\n",
    "    print(x)"
   ]
  },
  {
   "cell_type": "code",
   "execution_count": 10,
   "id": "8e89a8f1",
   "metadata": {},
   "outputs": [
    {
     "name": "stderr",
     "output_type": "stream",
     "text": [
      "/var/folders/rb/0gt4r16106z3q6h2ky_t2d900000gn/T/ipykernel_8592/3515389645.py:4: UserWarning: pandas only supports SQLAlchemy connectable (engine/connection) or database string URI or sqlite3 DBAPI2 connection. Other DBAPI2 objects are not tested. Please consider using SQLAlchemy.\n",
      "  df = pd.read_sql(sql,conn)\n"
     ]
    },
    {
     "data": {
      "text/html": [
       "<div>\n",
       "<style scoped>\n",
       "    .dataframe tbody tr th:only-of-type {\n",
       "        vertical-align: middle;\n",
       "    }\n",
       "\n",
       "    .dataframe tbody tr th {\n",
       "        vertical-align: top;\n",
       "    }\n",
       "\n",
       "    .dataframe thead th {\n",
       "        text-align: right;\n",
       "    }\n",
       "</style>\n",
       "<table border=\"1\" class=\"dataframe\">\n",
       "  <thead>\n",
       "    <tr style=\"text-align: right;\">\n",
       "      <th></th>\n",
       "      <th>emp_no</th>\n",
       "      <th>birth_date</th>\n",
       "      <th>first_name</th>\n",
       "      <th>last_name</th>\n",
       "      <th>salary</th>\n",
       "      <th>EmpSalary</th>\n",
       "    </tr>\n",
       "  </thead>\n",
       "  <tbody>\n",
       "    <tr>\n",
       "      <th>0</th>\n",
       "      <td>10001</td>\n",
       "      <td>1953-09-02</td>\n",
       "      <td>Georgi</td>\n",
       "      <td>Facello</td>\n",
       "      <td>60117</td>\n",
       "      <td>75388.9412</td>\n",
       "    </tr>\n",
       "    <tr>\n",
       "      <th>1</th>\n",
       "      <td>10001</td>\n",
       "      <td>1953-09-02</td>\n",
       "      <td>Georgi</td>\n",
       "      <td>Facello</td>\n",
       "      <td>62102</td>\n",
       "      <td>75388.9412</td>\n",
       "    </tr>\n",
       "    <tr>\n",
       "      <th>2</th>\n",
       "      <td>10001</td>\n",
       "      <td>1953-09-02</td>\n",
       "      <td>Georgi</td>\n",
       "      <td>Facello</td>\n",
       "      <td>66074</td>\n",
       "      <td>75388.9412</td>\n",
       "    </tr>\n",
       "    <tr>\n",
       "      <th>3</th>\n",
       "      <td>10001</td>\n",
       "      <td>1953-09-02</td>\n",
       "      <td>Georgi</td>\n",
       "      <td>Facello</td>\n",
       "      <td>66596</td>\n",
       "      <td>75388.9412</td>\n",
       "    </tr>\n",
       "    <tr>\n",
       "      <th>4</th>\n",
       "      <td>10001</td>\n",
       "      <td>1953-09-02</td>\n",
       "      <td>Georgi</td>\n",
       "      <td>Facello</td>\n",
       "      <td>66961</td>\n",
       "      <td>75388.9412</td>\n",
       "    </tr>\n",
       "    <tr>\n",
       "      <th>...</th>\n",
       "      <td>...</td>\n",
       "      <td>...</td>\n",
       "      <td>...</td>\n",
       "      <td>...</td>\n",
       "      <td>...</td>\n",
       "      <td>...</td>\n",
       "    </tr>\n",
       "    <tr>\n",
       "      <th>967325</th>\n",
       "      <td>201771</td>\n",
       "      <td>1962-12-24</td>\n",
       "      <td>Fumitaka</td>\n",
       "      <td>Gammage</td>\n",
       "      <td>56736</td>\n",
       "      <td>54893.1538</td>\n",
       "    </tr>\n",
       "    <tr>\n",
       "      <th>967326</th>\n",
       "      <td>201771</td>\n",
       "      <td>1962-12-24</td>\n",
       "      <td>Fumitaka</td>\n",
       "      <td>Gammage</td>\n",
       "      <td>56577</td>\n",
       "      <td>54893.1538</td>\n",
       "    </tr>\n",
       "    <tr>\n",
       "      <th>967327</th>\n",
       "      <td>201771</td>\n",
       "      <td>1962-12-24</td>\n",
       "      <td>Fumitaka</td>\n",
       "      <td>Gammage</td>\n",
       "      <td>60056</td>\n",
       "      <td>54893.1538</td>\n",
       "    </tr>\n",
       "    <tr>\n",
       "      <th>967328</th>\n",
       "      <td>201771</td>\n",
       "      <td>1962-12-24</td>\n",
       "      <td>Fumitaka</td>\n",
       "      <td>Gammage</td>\n",
       "      <td>62899</td>\n",
       "      <td>54893.1538</td>\n",
       "    </tr>\n",
       "    <tr>\n",
       "      <th>967329</th>\n",
       "      <td>201771</td>\n",
       "      <td>1962-12-24</td>\n",
       "      <td>Fumitaka</td>\n",
       "      <td>Gammage</td>\n",
       "      <td>66792</td>\n",
       "      <td>54893.1538</td>\n",
       "    </tr>\n",
       "  </tbody>\n",
       "</table>\n",
       "<p>967330 rows × 6 columns</p>\n",
       "</div>"
      ],
      "text/plain": [
       "        emp_no  birth_date first_name last_name  salary   EmpSalary\n",
       "0        10001  1953-09-02     Georgi   Facello   60117  75388.9412\n",
       "1        10001  1953-09-02     Georgi   Facello   62102  75388.9412\n",
       "2        10001  1953-09-02     Georgi   Facello   66074  75388.9412\n",
       "3        10001  1953-09-02     Georgi   Facello   66596  75388.9412\n",
       "4        10001  1953-09-02     Georgi   Facello   66961  75388.9412\n",
       "...        ...         ...        ...       ...     ...         ...\n",
       "967325  201771  1962-12-24   Fumitaka   Gammage   56736  54893.1538\n",
       "967326  201771  1962-12-24   Fumitaka   Gammage   56577  54893.1538\n",
       "967327  201771  1962-12-24   Fumitaka   Gammage   60056  54893.1538\n",
       "967328  201771  1962-12-24   Fumitaka   Gammage   62899  54893.1538\n",
       "967329  201771  1962-12-24   Fumitaka   Gammage   66792  54893.1538\n",
       "\n",
       "[967330 rows x 6 columns]"
      ]
     },
     "execution_count": 10,
     "metadata": {},
     "output_type": "execute_result"
    }
   ],
   "source": [
    "#Extract data in data frame\n",
    "sql = 'SELECT e.emp_no,e.birth_date,e.first_name,e.last_name,s.salary,AVG(salary) OVER(PARTITION BY emp_no) AS EmpSalary FROM employees.employees e JOIN employees.salaries s ON e.emp_no = s.emp_no'\n",
    "\n",
    "df = pd.read_sql(sql,conn)\n",
    "df"
   ]
  },
  {
   "cell_type": "code",
   "execution_count": 25,
   "id": "e0cf8b66",
   "metadata": {},
   "outputs": [],
   "source": [
    "#Export as csv\n",
    "df.to_csv('/Users/hasibazami/desktop/etl_data_folder/employee_salary.csv')"
   ]
  },
  {
   "cell_type": "code",
   "execution_count": 11,
   "id": "6976befc",
   "metadata": {},
   "outputs": [],
   "source": [
    "def salaries(r):\n",
    "    if r >= 5000:\n",
    "        return 'over 500k'\n",
    "    elif r <= 5000:\n",
    "        return 'less than 500k'\n"
   ]
  },
  {
   "cell_type": "code",
   "execution_count": 30,
   "id": "69ecabf5",
   "metadata": {},
   "outputs": [
    {
     "name": "stdout",
     "output_type": "stream",
     "text": [
      "you have 967330 in your table\n"
     ]
    }
   ],
   "source": [
    "#Load\n",
    "job_config = bigquery.LoadJobConfig(\n",
    "    skip_leading_rows=1,\n",
    "    source_format=bigquery.SourceFormat.CSV,\n",
    "    autodetect=True,\n",
    "    write_disposition='WRITE_TRUNCATE'\n",
    ")\n",
    "\n",
    "#open file for loading\n",
    "with open(load_file,'rb') as file:\n",
    "    load_job = client.load_table_from_file(\n",
    "        file,\n",
    "        table_id,\n",
    "        job_config=job_config\n",
    "    )\n",
    "\n",
    "load_job.result()\n",
    "\n",
    "#Check how many records were loaded\n",
    "dest_table = client.get_table(table_id)\n",
    "print(f\"you have {dest_table.num_rows} in your table\")"
   ]
  },
  {
   "cell_type": "code",
   "execution_count": 18,
   "id": "622840df",
   "metadata": {},
   "outputs": [
    {
     "name": "stdout",
     "output_type": "stream",
     "text": [
      "None\n"
     ]
    }
   ],
   "source": [
    "print(os.chdir('/users/hasibazami/Desktop/etl_data_folder'))"
   ]
  }
 ],
 "metadata": {
  "kernelspec": {
   "display_name": "Python 3 (ipykernel)",
   "language": "python",
   "name": "python3"
  },
  "language_info": {
   "codemirror_mode": {
    "name": "ipython",
    "version": 3
   },
   "file_extension": ".py",
   "mimetype": "text/x-python",
   "name": "python",
   "nbconvert_exporter": "python",
   "pygments_lexer": "ipython3",
   "version": "3.8.2"
  }
 },
 "nbformat": 4,
 "nbformat_minor": 5
}
