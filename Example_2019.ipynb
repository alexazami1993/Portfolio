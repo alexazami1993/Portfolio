{
 "cells": [
  {
   "cell_type": "code",
   "execution_count": 66,
   "id": "cfdefe9e-63c0-4742-b70f-b7bad274407e",
   "metadata": {},
   "outputs": [],
   "source": [
    "import numpy as np\n",
    "import pandas as pd\n",
    "import matplotlib.pyplot as plt\n",
    "import seaborn as sns\n",
    "import json"
   ]
  },
  {
   "cell_type": "markdown",
   "id": "61f86043-3f27-4232-a627-07715a038aba",
   "metadata": {},
   "source": [
    "# Read in the dataframe"
   ]
  },
  {
   "cell_type": "code",
   "execution_count": 159,
   "id": "6a481c2e-c28a-4314-ab0b-a84e4b7b7139",
   "metadata": {},
   "outputs": [
    {
     "data": {
      "text/html": [
       "<div>\n",
       "<style scoped>\n",
       "    .dataframe tbody tr th:only-of-type {\n",
       "        vertical-align: middle;\n",
       "    }\n",
       "\n",
       "    .dataframe tbody tr th {\n",
       "        vertical-align: top;\n",
       "    }\n",
       "\n",
       "    .dataframe thead th {\n",
       "        text-align: right;\n",
       "    }\n",
       "</style>\n",
       "<table border=\"1\" class=\"dataframe\">\n",
       "  <thead>\n",
       "    <tr style=\"text-align: right;\">\n",
       "      <th></th>\n",
       "      <th>ID</th>\n",
       "      <th>Date</th>\n",
       "      <th>Job Title</th>\n",
       "      <th>Job Location</th>\n",
       "      <th>Hired</th>\n",
       "      <th>Easy Apply</th>\n",
       "    </tr>\n",
       "  </thead>\n",
       "  <tbody>\n",
       "    <tr>\n",
       "      <th>0</th>\n",
       "      <td>24368</td>\n",
       "      <td>4/11/19 9:30</td>\n",
       "      <td>PHARMACEUTICAL DATA ANALYST</td>\n",
       "      <td>Dallas, TX</td>\n",
       "      <td>False</td>\n",
       "      <td>False</td>\n",
       "    </tr>\n",
       "    <tr>\n",
       "      <th>1</th>\n",
       "      <td>24369</td>\n",
       "      <td>6/25/19 13:30</td>\n",
       "      <td>PHARMACEUTICAL DATA ANALYST</td>\n",
       "      <td>Austin, TX</td>\n",
       "      <td>False</td>\n",
       "      <td>False</td>\n",
       "    </tr>\n",
       "    <tr>\n",
       "      <th>2</th>\n",
       "      <td>24371</td>\n",
       "      <td>10/26/19 1:00</td>\n",
       "      <td>PHARMACEUTICAL DATA ANALYST</td>\n",
       "      <td>Boulder, CO</td>\n",
       "      <td>True</td>\n",
       "      <td>False</td>\n",
       "    </tr>\n",
       "    <tr>\n",
       "      <th>3</th>\n",
       "      <td>24374</td>\n",
       "      <td>3/2/19 19:30</td>\n",
       "      <td>PHARMACEUTICAL DATA ANALYST</td>\n",
       "      <td>New York, NY</td>\n",
       "      <td>False</td>\n",
       "      <td>False</td>\n",
       "    </tr>\n",
       "    <tr>\n",
       "      <th>4</th>\n",
       "      <td>24388</td>\n",
       "      <td>4/4/19 19:30</td>\n",
       "      <td>PHARMACEUTICAL DATA ANALYST</td>\n",
       "      <td>Chicago, IL</td>\n",
       "      <td>False</td>\n",
       "      <td>True</td>\n",
       "    </tr>\n",
       "    <tr>\n",
       "      <th>...</th>\n",
       "      <td>...</td>\n",
       "      <td>...</td>\n",
       "      <td>...</td>\n",
       "      <td>...</td>\n",
       "      <td>...</td>\n",
       "      <td>...</td>\n",
       "    </tr>\n",
       "    <tr>\n",
       "      <th>32591</th>\n",
       "      <td>12154531</td>\n",
       "      <td>8/19/19 23:31</td>\n",
       "      <td>QA DATA ANALYST</td>\n",
       "      <td>New York, NY</td>\n",
       "      <td>False</td>\n",
       "      <td>False</td>\n",
       "    </tr>\n",
       "    <tr>\n",
       "      <th>32592</th>\n",
       "      <td>12157329</td>\n",
       "      <td>3/8/19 17:50</td>\n",
       "      <td>MANUFACTURING DATA ANALYST</td>\n",
       "      <td>Chicago, IL</td>\n",
       "      <td>False</td>\n",
       "      <td>False</td>\n",
       "    </tr>\n",
       "    <tr>\n",
       "      <th>32593</th>\n",
       "      <td>12162108</td>\n",
       "      <td>10/23/19 12:05</td>\n",
       "      <td>QA DATA ANALYST</td>\n",
       "      <td>San Francisco, CA</td>\n",
       "      <td>False</td>\n",
       "      <td>False</td>\n",
       "    </tr>\n",
       "    <tr>\n",
       "      <th>32594</th>\n",
       "      <td>12165032</td>\n",
       "      <td>2/14/19 1:44</td>\n",
       "      <td>DATA QUALITY ANALYST</td>\n",
       "      <td>San Diego, CA</td>\n",
       "      <td>False</td>\n",
       "      <td>True</td>\n",
       "    </tr>\n",
       "    <tr>\n",
       "      <th>32595</th>\n",
       "      <td>12168373</td>\n",
       "      <td>4/6/19 15:03</td>\n",
       "      <td>NETWORK DATA ANALYST</td>\n",
       "      <td>Houston, TX</td>\n",
       "      <td>False</td>\n",
       "      <td>False</td>\n",
       "    </tr>\n",
       "  </tbody>\n",
       "</table>\n",
       "<p>32596 rows × 6 columns</p>\n",
       "</div>"
      ],
      "text/plain": [
       "             ID            Date                    Job Title  \\\n",
       "0         24368    4/11/19 9:30  PHARMACEUTICAL DATA ANALYST   \n",
       "1         24369   6/25/19 13:30  PHARMACEUTICAL DATA ANALYST   \n",
       "2         24371   10/26/19 1:00  PHARMACEUTICAL DATA ANALYST   \n",
       "3         24374    3/2/19 19:30  PHARMACEUTICAL DATA ANALYST   \n",
       "4         24388    4/4/19 19:30  PHARMACEUTICAL DATA ANALYST   \n",
       "...         ...             ...                          ...   \n",
       "32591  12154531   8/19/19 23:31              QA DATA ANALYST   \n",
       "32592  12157329    3/8/19 17:50   MANUFACTURING DATA ANALYST   \n",
       "32593  12162108  10/23/19 12:05              QA DATA ANALYST   \n",
       "32594  12165032    2/14/19 1:44         DATA QUALITY ANALYST   \n",
       "32595  12168373    4/6/19 15:03         NETWORK DATA ANALYST   \n",
       "\n",
       "            Job Location  Hired  Easy Apply  \n",
       "0             Dallas, TX  False       False  \n",
       "1             Austin, TX  False       False  \n",
       "2            Boulder, CO   True       False  \n",
       "3           New York, NY  False       False  \n",
       "4            Chicago, IL  False        True  \n",
       "...                  ...    ...         ...  \n",
       "32591       New York, NY  False       False  \n",
       "32592        Chicago, IL  False       False  \n",
       "32593  San Francisco, CA  False       False  \n",
       "32594      San Diego, CA  False        True  \n",
       "32595        Houston, TX  False       False  \n",
       "\n",
       "[32596 rows x 6 columns]"
      ]
     },
     "execution_count": 159,
     "metadata": {},
     "output_type": "execute_result"
    }
   ],
   "source": [
    "df = pd.read_csv('2019_data_analyst_job.csv')\n",
    "df"
   ]
  },
  {
   "cell_type": "markdown",
   "id": "48d7cb2d-c2cb-4ab0-ae98-b187c5eb9f9e",
   "metadata": {},
   "source": [
    "# Data Inspection"
   ]
  },
  {
   "cell_type": "code",
   "execution_count": 7,
   "id": "04ff8608-8608-4eaa-8e06-d484173e1497",
   "metadata": {},
   "outputs": [
    {
     "data": {
      "text/plain": [
       "array(['PHARMACEUTICAL DATA ANALYST', 'DATA QUALITY ANALYST',\n",
       "       'TECHNICAL DATA ANALYST', 'LOAN DATA ANALYST',\n",
       "       'ECOMMERCE DATA ANALYST', 'CLINICAL DATA ANALYST',\n",
       "       'OPERATIONS RESEARCH DATA ANALYST', 'BUSINESS DATA ANALYST',\n",
       "       'RESEARCH DATA ANALYST', 'DIGITAL MARKETING DATA ANALYST',\n",
       "       'DATA GOVERNANCE ANALYST', 'PRODUCT DATA ANALYST',\n",
       "       'MANUFACTURING DATA ANALYST', 'SALES DATA ANALYST',\n",
       "       'REGULATORY DATA ANALYST', 'FRAUD DATA ANALYST', 'DATA SCIENTIST',\n",
       "       'QA DATA ANALYST', 'RISK DATA ANALYST', 'CREDIT DATA ANALYST',\n",
       "       'PROGRAM DATA ANALYST', 'FINANCE ANALYST', 'DATA ENGINEER ANALYST',\n",
       "       'CLAIMS DATA ANALYST', 'TRANSPORTATION ANALYST',\n",
       "       'UNDERWRITING ANALYST', 'NETWORK DATA ANALYST',\n",
       "       'BIOINFORMATICS DATA ANALYST'], dtype=object)"
      ]
     },
     "execution_count": 7,
     "metadata": {},
     "output_type": "execute_result"
    }
   ],
   "source": [
    "df['Job Title'].unique()"
   ]
  },
  {
   "cell_type": "code",
   "execution_count": 85,
   "id": "df699e8d-f9e2-414a-bb79-65d1e0a5e5b1",
   "metadata": {},
   "outputs": [
    {
     "name": "stdout",
     "output_type": "stream",
     "text": [
      "<class 'pandas.core.frame.DataFrame'>\n",
      "RangeIndex: 32596 entries, 0 to 32595\n",
      "Data columns (total 6 columns):\n",
      " #   Column        Non-Null Count  Dtype \n",
      "---  ------        --------------  ----- \n",
      " 0   ID            32596 non-null  int64 \n",
      " 1   Date          32596 non-null  object\n",
      " 2   Job Title     32596 non-null  object\n",
      " 3   Job Location  32596 non-null  object\n",
      " 4   Hired         32596 non-null  bool  \n",
      " 5   Easy Apply    32596 non-null  bool  \n",
      "dtypes: bool(2), int64(1), object(3)\n",
      "memory usage: 1.1+ MB\n"
     ]
    }
   ],
   "source": [
    "df.info()"
   ]
  },
  {
   "cell_type": "code",
   "execution_count": 87,
   "id": "fac7a6b4-1a5b-4b7f-b995-e73405c8df29",
   "metadata": {},
   "outputs": [
    {
     "data": {
      "text/html": [
       "<div>\n",
       "<style scoped>\n",
       "    .dataframe tbody tr th:only-of-type {\n",
       "        vertical-align: middle;\n",
       "    }\n",
       "\n",
       "    .dataframe tbody tr th {\n",
       "        vertical-align: top;\n",
       "    }\n",
       "\n",
       "    .dataframe thead th {\n",
       "        text-align: right;\n",
       "    }\n",
       "</style>\n",
       "<table border=\"1\" class=\"dataframe\">\n",
       "  <thead>\n",
       "    <tr style=\"text-align: right;\">\n",
       "      <th></th>\n",
       "      <th>ID</th>\n",
       "    </tr>\n",
       "  </thead>\n",
       "  <tbody>\n",
       "    <tr>\n",
       "      <th>count</th>\n",
       "      <td>3.259600e+04</td>\n",
       "    </tr>\n",
       "    <tr>\n",
       "      <th>mean</th>\n",
       "      <td>1.173212e+07</td>\n",
       "    </tr>\n",
       "    <tr>\n",
       "      <th>std</th>\n",
       "      <td>4.943200e+05</td>\n",
       "    </tr>\n",
       "    <tr>\n",
       "      <th>min</th>\n",
       "      <td>2.436800e+04</td>\n",
       "    </tr>\n",
       "    <tr>\n",
       "      <th>25%</th>\n",
       "      <td>1.165549e+07</td>\n",
       "    </tr>\n",
       "    <tr>\n",
       "      <th>50%</th>\n",
       "      <td>1.175267e+07</td>\n",
       "    </tr>\n",
       "    <tr>\n",
       "      <th>75%</th>\n",
       "      <td>1.184793e+07</td>\n",
       "    </tr>\n",
       "    <tr>\n",
       "      <th>max</th>\n",
       "      <td>1.216837e+07</td>\n",
       "    </tr>\n",
       "  </tbody>\n",
       "</table>\n",
       "</div>"
      ],
      "text/plain": [
       "                 ID\n",
       "count  3.259600e+04\n",
       "mean   1.173212e+07\n",
       "std    4.943200e+05\n",
       "min    2.436800e+04\n",
       "25%    1.165549e+07\n",
       "50%    1.175267e+07\n",
       "75%    1.184793e+07\n",
       "max    1.216837e+07"
      ]
     },
     "execution_count": 87,
     "metadata": {},
     "output_type": "execute_result"
    }
   ],
   "source": [
    "df.describe()"
   ]
  },
  {
   "cell_type": "code",
   "execution_count": 99,
   "id": "a8edb089-2f79-4ea1-9455-64e96cfc2bff",
   "metadata": {},
   "outputs": [
    {
     "data": {
      "text/plain": [
       "ID              32596\n",
       "Date            32596\n",
       "Job Title       32596\n",
       "Job Location    32596\n",
       "Hired           32596\n",
       "Easy Apply      32596\n",
       "dtype: int64"
      ]
     },
     "execution_count": 99,
     "metadata": {},
     "output_type": "execute_result"
    }
   ],
   "source": [
    "df.isnull().count()"
   ]
  },
  {
   "cell_type": "code",
   "execution_count": 103,
   "id": "4e52c927-b3de-488a-ba3d-3ae58cc3d8a8",
   "metadata": {},
   "outputs": [
    {
     "data": {
      "text/plain": [
       "32596"
      ]
     },
     "execution_count": 103,
     "metadata": {},
     "output_type": "execute_result"
    }
   ],
   "source": [
    "df.duplicated().count()"
   ]
  },
  {
   "cell_type": "markdown",
   "id": "a793d1e3-5d86-47a6-8afb-4645b15bf22d",
   "metadata": {},
   "source": [
    "# Perform Data Cleaning"
   ]
  },
  {
   "cell_type": "code",
   "execution_count": 161,
   "id": "e4d14654-44aa-47b1-bd3e-0b362ed63560",
   "metadata": {},
   "outputs": [
    {
     "data": {
      "text/html": [
       "<div>\n",
       "<style scoped>\n",
       "    .dataframe tbody tr th:only-of-type {\n",
       "        vertical-align: middle;\n",
       "    }\n",
       "\n",
       "    .dataframe tbody tr th {\n",
       "        vertical-align: top;\n",
       "    }\n",
       "\n",
       "    .dataframe thead th {\n",
       "        text-align: right;\n",
       "    }\n",
       "</style>\n",
       "<table border=\"1\" class=\"dataframe\">\n",
       "  <thead>\n",
       "    <tr style=\"text-align: right;\">\n",
       "      <th></th>\n",
       "      <th>ID</th>\n",
       "      <th>Date</th>\n",
       "      <th>Job Title</th>\n",
       "      <th>Job Location</th>\n",
       "      <th>Hired</th>\n",
       "      <th>Easy Apply</th>\n",
       "    </tr>\n",
       "  </thead>\n",
       "  <tbody>\n",
       "    <tr>\n",
       "      <th>0</th>\n",
       "      <td>24368</td>\n",
       "      <td>4/11/19</td>\n",
       "      <td>PHARMACEUTICAL DATA ANALYST</td>\n",
       "      <td>Dallas, TX</td>\n",
       "      <td>False</td>\n",
       "      <td>False</td>\n",
       "    </tr>\n",
       "    <tr>\n",
       "      <th>1</th>\n",
       "      <td>24369</td>\n",
       "      <td>6/25/19</td>\n",
       "      <td>PHARMACEUTICAL DATA ANALYST</td>\n",
       "      <td>Austin, TX</td>\n",
       "      <td>False</td>\n",
       "      <td>False</td>\n",
       "    </tr>\n",
       "    <tr>\n",
       "      <th>2</th>\n",
       "      <td>24371</td>\n",
       "      <td>10/26/1</td>\n",
       "      <td>PHARMACEUTICAL DATA ANALYST</td>\n",
       "      <td>Boulder, CO</td>\n",
       "      <td>True</td>\n",
       "      <td>False</td>\n",
       "    </tr>\n",
       "    <tr>\n",
       "      <th>3</th>\n",
       "      <td>24374</td>\n",
       "      <td>3/2/19</td>\n",
       "      <td>PHARMACEUTICAL DATA ANALYST</td>\n",
       "      <td>New York, NY</td>\n",
       "      <td>False</td>\n",
       "      <td>False</td>\n",
       "    </tr>\n",
       "    <tr>\n",
       "      <th>4</th>\n",
       "      <td>24388</td>\n",
       "      <td>4/4/19</td>\n",
       "      <td>PHARMACEUTICAL DATA ANALYST</td>\n",
       "      <td>Chicago, IL</td>\n",
       "      <td>False</td>\n",
       "      <td>True</td>\n",
       "    </tr>\n",
       "    <tr>\n",
       "      <th>...</th>\n",
       "      <td>...</td>\n",
       "      <td>...</td>\n",
       "      <td>...</td>\n",
       "      <td>...</td>\n",
       "      <td>...</td>\n",
       "      <td>...</td>\n",
       "    </tr>\n",
       "    <tr>\n",
       "      <th>32591</th>\n",
       "      <td>12154531</td>\n",
       "      <td>8/19/19</td>\n",
       "      <td>QA DATA ANALYST</td>\n",
       "      <td>New York, NY</td>\n",
       "      <td>False</td>\n",
       "      <td>False</td>\n",
       "    </tr>\n",
       "    <tr>\n",
       "      <th>32592</th>\n",
       "      <td>12157329</td>\n",
       "      <td>3/8/19</td>\n",
       "      <td>MANUFACTURING DATA ANALYST</td>\n",
       "      <td>Chicago, IL</td>\n",
       "      <td>False</td>\n",
       "      <td>False</td>\n",
       "    </tr>\n",
       "    <tr>\n",
       "      <th>32593</th>\n",
       "      <td>12162108</td>\n",
       "      <td>10/23/1</td>\n",
       "      <td>QA DATA ANALYST</td>\n",
       "      <td>San Francisco, CA</td>\n",
       "      <td>False</td>\n",
       "      <td>False</td>\n",
       "    </tr>\n",
       "    <tr>\n",
       "      <th>32594</th>\n",
       "      <td>12165032</td>\n",
       "      <td>2/14/19</td>\n",
       "      <td>DATA QUALITY ANALYST</td>\n",
       "      <td>San Diego, CA</td>\n",
       "      <td>False</td>\n",
       "      <td>True</td>\n",
       "    </tr>\n",
       "    <tr>\n",
       "      <th>32595</th>\n",
       "      <td>12168373</td>\n",
       "      <td>4/6/19</td>\n",
       "      <td>NETWORK DATA ANALYST</td>\n",
       "      <td>Houston, TX</td>\n",
       "      <td>False</td>\n",
       "      <td>False</td>\n",
       "    </tr>\n",
       "  </tbody>\n",
       "</table>\n",
       "<p>32596 rows × 6 columns</p>\n",
       "</div>"
      ],
      "text/plain": [
       "             ID     Date                    Job Title       Job Location  \\\n",
       "0         24368  4/11/19  PHARMACEUTICAL DATA ANALYST         Dallas, TX   \n",
       "1         24369  6/25/19  PHARMACEUTICAL DATA ANALYST         Austin, TX   \n",
       "2         24371  10/26/1  PHARMACEUTICAL DATA ANALYST        Boulder, CO   \n",
       "3         24374  3/2/19   PHARMACEUTICAL DATA ANALYST       New York, NY   \n",
       "4         24388  4/4/19   PHARMACEUTICAL DATA ANALYST        Chicago, IL   \n",
       "...         ...      ...                          ...                ...   \n",
       "32591  12154531  8/19/19              QA DATA ANALYST       New York, NY   \n",
       "32592  12157329  3/8/19    MANUFACTURING DATA ANALYST        Chicago, IL   \n",
       "32593  12162108  10/23/1              QA DATA ANALYST  San Francisco, CA   \n",
       "32594  12165032  2/14/19         DATA QUALITY ANALYST      San Diego, CA   \n",
       "32595  12168373  4/6/19          NETWORK DATA ANALYST        Houston, TX   \n",
       "\n",
       "       Hired  Easy Apply  \n",
       "0      False       False  \n",
       "1      False       False  \n",
       "2       True       False  \n",
       "3      False       False  \n",
       "4      False        True  \n",
       "...      ...         ...  \n",
       "32591  False       False  \n",
       "32592  False       False  \n",
       "32593  False       False  \n",
       "32594  False        True  \n",
       "32595  False       False  \n",
       "\n",
       "[32596 rows x 6 columns]"
      ]
     },
     "execution_count": 161,
     "metadata": {},
     "output_type": "execute_result"
    }
   ],
   "source": [
    "df['Date'] = df['Date'].str[:7]\n",
    "df"
   ]
  },
  {
   "cell_type": "code",
   "execution_count": 169,
   "id": "93e7d3c4-6425-4a0d-92bd-51694b8a3a9b",
   "metadata": {},
   "outputs": [
    {
     "data": {
      "text/plain": [
       "0        Dallas, \n",
       "1        Austin, \n",
       "2        Boulder,\n",
       "3        New York\n",
       "4        Chicago,\n",
       "           ...   \n",
       "32591    New York\n",
       "32592    Chicago,\n",
       "32593    San Fran\n",
       "32594    San Dieg\n",
       "32595    Houston,\n",
       "Name: Job Location, Length: 32596, dtype: object"
      ]
     },
     "execution_count": 169,
     "metadata": {},
     "output_type": "execute_result"
    }
   ],
   "source": [
    "df['state'] = df['Job Location'].str.split(',').str[1]\n",
    "df\n",
    "\n",
    "df['Job Location'].str[:8]"
   ]
  },
  {
   "cell_type": "markdown",
   "id": "2194bc8e-089e-4254-9e11-73b28a4357c3",
   "metadata": {},
   "source": [
    "# Use Pintrest API data"
   ]
  },
  {
   "cell_type": "code",
   "execution_count": 38,
   "id": "2e3576b0-1fe7-4358-8a83-ab60d7982dd3",
   "metadata": {},
   "outputs": [
    {
     "name": "stdout",
     "output_type": "stream",
     "text": [
      "{'status': 200, 'message': '', 'data': {'is_verified_merchant': False, 'indexed': True, 'pin_count': 1028, 'last_pin_save_time': 'Thu, 01 Jun 2023 01:14:53 +0000', 'show_impressum': False, 'partner': None, 'should_show_messaging': True, 'story_pin_count': 0, 'is_private_profile': False, 'profile_discovered_public': None, 'has_published_pins': False, 'domain_verified': False, 'first_name': 'Trang', 'has_shopping_showcase': False, 'show_creator_profile': False, 'last_name': 'Bui', 'image_small_url': 'https://i.pinimg.com/30x30_RS/b8/c6/0d/b8c60d5bb25b8d31b23de1dbee1f1ffa.jpg', 'pins_done_count': 0, 'video_pin_count': 0, 'full_name': 'Trang Bui', 'has_showcase': False, 'image_large_url': 'https://i.pinimg.com/140x140_RS/b8/c6/0d/b8c60d5bb25b8d31b23de1dbee1f1ffa.jpg', 'is_tastemaker': False, 'seo_description': 'Trang Bui | I like to take long, romantic walks to the kitchen.', 'follower_count': 186, 'is_ads_only_profile': False, 'explicitly_followed_by_me': False, 'seo_noindex_reason': None, 'profile_cover': {'id': '122301083539216086', 'images': None, 'type': None, 'video': None, 'source': None, 'source_id': None}, 'interest_following_count': None, 'website_url': None, 'is_inspirational_merchant': False, 'seo_canonical_domain': 'www.pinterest.com', 'should_default_comments_off': False, 'native_pin_count': 0, 'about': 'I like to take long, romantic walks to the kitchen.', 'has_catalog': False, 'ads_only_profile_site': None, 'blocked_by_me': False, 'image_xlarge_url': 'https://i.pinimg.com/280x280_RS/b8/c6/0d/b8c60d5bb25b8d31b23de1dbee1f1ffa.jpg', 'domain_url': None, 'explicit_user_following_count': 84, 'pronouns': [], 'image_medium_url': 'https://i.pinimg.com/75x75_RS/b8/c6/0d/b8c60d5bb25b8d31b23de1dbee1f1ffa.jpg', 'joined_communities_count': 0, 'following_count': 84, 'board_count': 17, 'is_partner': False, 'show_discovered_feed': None, 'verified_identity': {}, 'show_engagement_tab': False, 'listed_website_url': None, 'profile_reach': -1, 'storefront_management_enabled': True, 'group_board_count': 2, 'has_custom_board_sorting_order': True, 'profile_views': -1, 'seo_title': 'Trang Bui (trangnbui) - Profile | Pinterest', 'is_primary_website_verified': False, 'type': 'user', 'impressum_url': None, 'username': 'trangnbui', 'id': '122301083539216086', 'repins_from': None, 'has_board': None}}\n"
     ]
    }
   ],
   "source": [
    "import requests\n",
    "\n",
    "url = \"https://pinterest-apis.p.rapidapi.com/v1/pinterest/profile/trangnbui\"\n",
    "\n",
    "headers = {\n",
    "\t\"x-rapidapi-key\": \"14e6e29f34msh71721f4a0252265p13e32djsnb057017ba3fc\",\n",
    "\t\"x-rapidapi-host\": \"pinterest-apis.p.rapidapi.com\"\n",
    "}\n",
    "\n",
    "response = requests.get(url, headers=headers)\n",
    "\n",
    "print(response.json())"
   ]
  },
  {
   "cell_type": "code",
   "execution_count": 112,
   "id": "c2d02cf9-1509-4140-a4d3-0b2b2d8880ea",
   "metadata": {},
   "outputs": [
    {
     "data": {
      "text/html": [
       "<div>\n",
       "<style scoped>\n",
       "    .dataframe tbody tr th:only-of-type {\n",
       "        vertical-align: middle;\n",
       "    }\n",
       "\n",
       "    .dataframe tbody tr th {\n",
       "        vertical-align: top;\n",
       "    }\n",
       "\n",
       "    .dataframe thead th {\n",
       "        text-align: right;\n",
       "    }\n",
       "</style>\n",
       "<table border=\"1\" class=\"dataframe\">\n",
       "  <thead>\n",
       "    <tr style=\"text-align: right;\">\n",
       "      <th></th>\n",
       "      <th>is_verified_merchant</th>\n",
       "      <th>indexed</th>\n",
       "      <th>pin_count</th>\n",
       "      <th>last_pin_save_time</th>\n",
       "      <th>show_impressum</th>\n",
       "      <th>partner</th>\n",
       "      <th>should_show_messaging</th>\n",
       "      <th>story_pin_count</th>\n",
       "      <th>is_privacy_profile</th>\n",
       "      <th>profile_discovered_public</th>\n",
       "      <th>has_published_pins</th>\n",
       "    </tr>\n",
       "  </thead>\n",
       "  <tbody>\n",
       "    <tr>\n",
       "      <th>0</th>\n",
       "      <td>False</td>\n",
       "      <td>True</td>\n",
       "      <td>1028</td>\n",
       "      <td>Thu, 01 Jun 2023 01:14:53 +0000</td>\n",
       "      <td>False</td>\n",
       "      <td>None</td>\n",
       "      <td>True</td>\n",
       "      <td>0</td>\n",
       "      <td>False</td>\n",
       "      <td>None</td>\n",
       "      <td>False</td>\n",
       "    </tr>\n",
       "  </tbody>\n",
       "</table>\n",
       "</div>"
      ],
      "text/plain": [
       "   is_verified_merchant  indexed  pin_count               last_pin_save_time  \\\n",
       "0                 False     True       1028  Thu, 01 Jun 2023 01:14:53 +0000   \n",
       "\n",
       "   show_impressum partner  should_show_messaging  story_pin_count  \\\n",
       "0           False    None                   True                0   \n",
       "\n",
       "   is_privacy_profile profile_discovered_public  has_published_pins  \n",
       "0               False                      None               False  "
      ]
     },
     "execution_count": 112,
     "metadata": {},
     "output_type": "execute_result"
    }
   ],
   "source": [
    "\n",
    "json_pin = response.json()\n",
    "json_pin\n",
    "\n",
    "i = json_pin['data']\n",
    "i\n",
    "\n",
    "pd.DataFrame([{'is_verified_merchant':i['is_verified_merchant'],\n",
    "               'indexed':i['indexed'],'pin_count':i['pin_count'],'last_pin_save_time':i['last_pin_save_time'],'show_impressum':i['show_impressum'],\n",
    "              'partner':i['partner'],'should_show_messaging':i['should_show_messaging'],'story_pin_count':i['story_pin_count'],'is_privacy_profile':i['is_private_profile'],\n",
    "              'profile_discovered_public':i['profile_discovered_public'], 'has_published_pins':i['has_published_pins'],''}])\n",
    "#pd.DataFrame(json_pin['first_name'])"
   ]
  },
  {
   "cell_type": "code",
   "execution_count": 28,
   "id": "fb3ee14d-d446-4430-84ef-0f61a3d1f598",
   "metadata": {},
   "outputs": [],
   "source": [
    "#New way \n",
    "base_url = \"https://pintrest-apis.p.rapidapi.com/v1/\"\n",
    "import json\n",
    "\n",
    "\n",
    "def get_data(name):\n",
    "    url = f\"{base_url}/pintrest/{name}\"\n",
    "    responsenew = requests.get(url)\n",
    "\n",
    "    if responsenew.status_code == 200:\n",
    "        df = responsenew.json()\n",
    "        return df\n",
    "    else:\n",
    "        print(f\"Failed to retrieve data {responsenew.status_code}\")"
   ]
  },
  {
   "cell_type": "code",
   "execution_count": 72,
   "id": "2a3937af-54a7-46cb-b276-c6b20f9d6e1e",
   "metadata": {},
   "outputs": [
    {
     "name": "stdout",
     "output_type": "stream",
     "text": [
      "Failed to retrieve data 404\n"
     ]
    }
   ],
   "source": [
    "pintrest_name = 'first_name'\n",
    "df_info = get_data(pintrest_name)"
   ]
  },
  {
   "cell_type": "code",
   "execution_count": null,
   "id": "042bbb57-6398-4fee-b073-d9275672ca16",
   "metadata": {},
   "outputs": [],
   "source": []
  }
 ],
 "metadata": {
  "kernelspec": {
   "display_name": "Python 3 (ipykernel)",
   "language": "python",
   "name": "python3"
  },
  "language_info": {
   "codemirror_mode": {
    "name": "ipython",
    "version": 3
   },
   "file_extension": ".py",
   "mimetype": "text/x-python",
   "name": "python",
   "nbconvert_exporter": "python",
   "pygments_lexer": "ipython3",
   "version": "3.12.4"
  }
 },
 "nbformat": 4,
 "nbformat_minor": 5
}
